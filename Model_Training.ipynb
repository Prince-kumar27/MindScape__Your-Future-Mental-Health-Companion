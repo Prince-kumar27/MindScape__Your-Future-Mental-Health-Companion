{
 "cells": [
  {
   "cell_type": "code",
   "execution_count": 1,
   "metadata": {},
   "outputs": [],
   "source": [
    "import pandas as pd\n",
    "\n",
    "# Load dataset\n",
    "df = pd.read_csv(\"training.1600000.processed.noemoticon.csv\", encoding=\"latin-1\", header=None)"
   ]
  },
  {
   "cell_type": "code",
   "execution_count": 3,
   "metadata": {},
   "outputs": [
    {
     "data": {
      "text/html": [
       "<div>\n",
       "<style scoped>\n",
       "    .dataframe tbody tr th:only-of-type {\n",
       "        vertical-align: middle;\n",
       "    }\n",
       "\n",
       "    .dataframe tbody tr th {\n",
       "        vertical-align: top;\n",
       "    }\n",
       "\n",
       "    .dataframe thead th {\n",
       "        text-align: right;\n",
       "    }\n",
       "</style>\n",
       "<table border=\"1\" class=\"dataframe\">\n",
       "  <thead>\n",
       "    <tr style=\"text-align: right;\">\n",
       "      <th></th>\n",
       "      <th>0</th>\n",
       "      <th>1</th>\n",
       "      <th>2</th>\n",
       "      <th>3</th>\n",
       "      <th>4</th>\n",
       "      <th>5</th>\n",
       "    </tr>\n",
       "  </thead>\n",
       "  <tbody>\n",
       "    <tr>\n",
       "      <th>546141</th>\n",
       "      <td>0</td>\n",
       "      <td>2201667631</td>\n",
       "      <td>Tue Jun 16 20:36:05 PDT 2009</td>\n",
       "      <td>NO_QUERY</td>\n",
       "      <td>hxcmelolee</td>\n",
       "      <td>wondering when i'll get a break</td>\n",
       "    </tr>\n",
       "    <tr>\n",
       "      <th>1153439</th>\n",
       "      <td>4</td>\n",
       "      <td>1978823612</td>\n",
       "      <td>Sun May 31 00:35:37 PDT 2009</td>\n",
       "      <td>NO_QUERY</td>\n",
       "      <td>galvis</td>\n",
       "      <td>Hello sunday  going to work ...</td>\n",
       "    </tr>\n",
       "    <tr>\n",
       "      <th>1071929</th>\n",
       "      <td>4</td>\n",
       "      <td>1966412787</td>\n",
       "      <td>Fri May 29 17:43:15 PDT 2009</td>\n",
       "      <td>NO_QUERY</td>\n",
       "      <td>neekybabyy</td>\n",
       "      <td>HOLLYWOOD here i come</td>\n",
       "    </tr>\n",
       "    <tr>\n",
       "      <th>58598</th>\n",
       "      <td>0</td>\n",
       "      <td>1685940588</td>\n",
       "      <td>Sun May 03 02:53:56 PDT 2009</td>\n",
       "      <td>NO_QUERY</td>\n",
       "      <td>icedcoffee</td>\n",
       "      <td>@kesouthall belfast is good. nice and sunny. c...</td>\n",
       "    </tr>\n",
       "  </tbody>\n",
       "</table>\n",
       "</div>"
      ],
      "text/plain": [
       "         0           1                             2         3           4  \\\n",
       "546141   0  2201667631  Tue Jun 16 20:36:05 PDT 2009  NO_QUERY  hxcmelolee   \n",
       "1153439  4  1978823612  Sun May 31 00:35:37 PDT 2009  NO_QUERY      galvis   \n",
       "1071929  4  1966412787  Fri May 29 17:43:15 PDT 2009  NO_QUERY  neekybabyy   \n",
       "58598    0  1685940588  Sun May 03 02:53:56 PDT 2009  NO_QUERY  icedcoffee   \n",
       "\n",
       "                                                         5  \n",
       "546141                    wondering when i'll get a break   \n",
       "1153439                    Hello sunday  going to work ...  \n",
       "1071929                             HOLLYWOOD here i come   \n",
       "58598    @kesouthall belfast is good. nice and sunny. c...  "
      ]
     },
     "execution_count": 3,
     "metadata": {},
     "output_type": "execute_result"
    }
   ],
   "source": [
    "df.sample(4)"
   ]
  },
  {
   "cell_type": "code",
   "execution_count": 4,
   "metadata": {},
   "outputs": [],
   "source": [
    "# Rename columns for clarity\n",
    "df.columns = [\"sentiment\", \"id\", \"date\", \"query\", \"username\", \"text\"]"
   ]
  },
  {
   "cell_type": "code",
   "execution_count": 5,
   "metadata": {},
   "outputs": [
    {
     "data": {
      "text/html": [
       "<div>\n",
       "<style scoped>\n",
       "    .dataframe tbody tr th:only-of-type {\n",
       "        vertical-align: middle;\n",
       "    }\n",
       "\n",
       "    .dataframe tbody tr th {\n",
       "        vertical-align: top;\n",
       "    }\n",
       "\n",
       "    .dataframe thead th {\n",
       "        text-align: right;\n",
       "    }\n",
       "</style>\n",
       "<table border=\"1\" class=\"dataframe\">\n",
       "  <thead>\n",
       "    <tr style=\"text-align: right;\">\n",
       "      <th></th>\n",
       "      <th>sentiment</th>\n",
       "      <th>id</th>\n",
       "      <th>date</th>\n",
       "      <th>query</th>\n",
       "      <th>username</th>\n",
       "      <th>text</th>\n",
       "    </tr>\n",
       "  </thead>\n",
       "  <tbody>\n",
       "    <tr>\n",
       "      <th>174333</th>\n",
       "      <td>0</td>\n",
       "      <td>1964459501</td>\n",
       "      <td>Fri May 29 14:16:09 PDT 2009</td>\n",
       "      <td>NO_QUERY</td>\n",
       "      <td>0BS0L33T</td>\n",
       "      <td>@PDX_Grenade The link 404'd.</td>\n",
       "    </tr>\n",
       "    <tr>\n",
       "      <th>1560532</th>\n",
       "      <td>4</td>\n",
       "      <td>2186360864</td>\n",
       "      <td>Mon Jun 15 18:43:45 PDT 2009</td>\n",
       "      <td>NO_QUERY</td>\n",
       "      <td>FOODAYZ</td>\n",
       "      <td>@tysonritteraar I just found out you guys are ...</td>\n",
       "    </tr>\n",
       "    <tr>\n",
       "      <th>987069</th>\n",
       "      <td>4</td>\n",
       "      <td>1834625869</td>\n",
       "      <td>Mon May 18 03:38:41 PDT 2009</td>\n",
       "      <td>NO_QUERY</td>\n",
       "      <td>lollipopOh9</td>\n",
       "      <td>revealing my secret to isabel</td>\n",
       "    </tr>\n",
       "    <tr>\n",
       "      <th>721307</th>\n",
       "      <td>0</td>\n",
       "      <td>2261155594</td>\n",
       "      <td>Sat Jun 20 20:20:56 PDT 2009</td>\n",
       "      <td>NO_QUERY</td>\n",
       "      <td>kidvai</td>\n",
       "      <td>@rabayl thx. switching to firefox just for thi...</td>\n",
       "    </tr>\n",
       "  </tbody>\n",
       "</table>\n",
       "</div>"
      ],
      "text/plain": [
       "         sentiment          id                          date     query  \\\n",
       "174333           0  1964459501  Fri May 29 14:16:09 PDT 2009  NO_QUERY   \n",
       "1560532          4  2186360864  Mon Jun 15 18:43:45 PDT 2009  NO_QUERY   \n",
       "987069           4  1834625869  Mon May 18 03:38:41 PDT 2009  NO_QUERY   \n",
       "721307           0  2261155594  Sat Jun 20 20:20:56 PDT 2009  NO_QUERY   \n",
       "\n",
       "            username                                               text  \n",
       "174333      0BS0L33T                      @PDX_Grenade The link 404'd.   \n",
       "1560532      FOODAYZ  @tysonritteraar I just found out you guys are ...  \n",
       "987069   lollipopOh9                     revealing my secret to isabel   \n",
       "721307        kidvai  @rabayl thx. switching to firefox just for thi...  "
      ]
     },
     "execution_count": 5,
     "metadata": {},
     "output_type": "execute_result"
    }
   ],
   "source": [
    "df.sample(4)"
   ]
  },
  {
   "cell_type": "code",
   "execution_count": null,
   "metadata": {},
   "outputs": [],
   "source": [
    "# Keep only relevant columns\n",
    "df = df[[\"sentiment\", \"text\"]]"
   ]
  },
  {
   "cell_type": "code",
   "execution_count": 7,
   "metadata": {},
   "outputs": [],
   "source": [
    "# Convert sentiment values (0 = Negative, 4 = Positive)\n",
    "df[\"sentiment\"] = df[\"sentiment\"].replace({0: \"negative\", 4: \"positive\"})"
   ]
  },
  {
   "cell_type": "code",
   "execution_count": 8,
   "metadata": {},
   "outputs": [
    {
     "name": "stdout",
     "output_type": "stream",
     "text": [
      "  sentiment                                               text\n",
      "0  negative  @switchfoot http://twitpic.com/2y1zl - Awww, t...\n",
      "1  negative  is upset that he can't update his Facebook by ...\n",
      "2  negative  @Kenichan I dived many times for the ball. Man...\n",
      "3  negative    my whole body feels itchy and like its on fire \n",
      "4  negative  @nationwideclass no, it's not behaving at all....\n"
     ]
    }
   ],
   "source": [
    "# Display sample data\n",
    "print(df.head())"
   ]
  },
  {
   "cell_type": "code",
   "execution_count": 12,
   "metadata": {},
   "outputs": [
    {
     "name": "stdout",
     "output_type": "stream",
     "text": [
      "0        thats bummer shoulda got david carr third day\n",
      "1    upset cant update facebook texting might cry r...\n",
      "2    dived many times ball managed save 50 rest go ...\n",
      "3                     whole body feels itchy like fire\n",
      "4                             behaving im mad cant see\n",
      "Name: clean_text, dtype: object\n"
     ]
    }
   ],
   "source": [
    "import re\n",
    "\n",
    "def clean_text(text):\n",
    "    text = re.sub(r\"http\\S+|www\\S+\", \"\", text)  # Remove URLs\n",
    "    text = re.sub(r\"@\\w+|#\\w+\", \"\", text)  # Remove mentions and hashtags\n",
    "    text = re.sub(r\"[^\\w\\s]\", \"\", text)  # Remove special characters\n",
    "    text = text.lower().strip()  # Convert to lowercase\n",
    "    text = ' '.join([word for word in text.split() if word not in stop_words])\n",
    "    return text\n",
    "\n",
    "df[\"clean_text\"] = df[\"text\"].apply(clean_text)\n",
    "\n",
    "print(df[\"clean_text\"].head())"
   ]
  },
  {
   "cell_type": "code",
   "execution_count": null,
   "metadata": {},
   "outputs": [],
   "source": [
    "mental_health_labels = {\n",
    "    \"depression\": [\"sad\", \"hopeless\", \"worthless\", \"suicidal\", \"empty\", \"drained\", \"numb\", \"exhausted\", \"lonely\", \"failure\"],\n",
    "    \"anxiety\": [\"nervous\", \"worried\", \"panic\", \"overthinking\", \"restless\", \"can't sleep\", \"racing thoughts\", \"overwhelmed\"],\n",
    "    \"bipolar\": [\"manic\", \"mood swing\", \"euphoric\", \"hyper\", \"impulsive\", \"depressed\", \"extreme high\"],\n",
    "    \"ptsd\": [\"trauma\", \"flashback\", \"nightmare\", \"triggered\", \"on edge\", \"can't forget\", \"disturbing memories\"],\n",
    "    \"sad\": [\"seasonal\", \"winter blues\", \"dark months\", \"low energy\", \"sleepy\", \"feel down\"],\n",
    "    \"schizophrenia\": [\"delusion\", \"hallucination\", \"paranoid\", \"hearing voices\", \"unreal\", \"out of touch\"],\n",
    "    \"eating_disorder\": [\"anorexia\", \"bulimia\", \"overeating\", \"food guilt\", \"binge eating\", \"calories\", \"starving\"],\n",
    "}"
   ]
  },
  {
   "cell_type": "code",
   "execution_count": 11,
   "metadata": {},
   "outputs": [
    {
     "name": "stderr",
     "output_type": "stream",
     "text": [
      "[nltk_data] Downloading package stopwords to\n",
      "[nltk_data]     C:\\Users\\DELL\\AppData\\Roaming\\nltk_data...\n",
      "[nltk_data]   Unzipping corpora\\stopwords.zip.\n"
     ]
    }
   ],
   "source": [
    "from nltk.corpus import stopwords\n",
    "import nltk\n",
    "\n",
    "# Download stopwords\n",
    "nltk.download('stopwords')\n",
    "stop_words = set(stopwords.words('english'))"
   ]
  },
  {
   "cell_type": "code",
   "execution_count": 13,
   "metadata": {},
   "outputs": [],
   "source": [
    "def assign_label(text):\n",
    "    for label, keywords in mental_health_labels.items():\n",
    "        if any(keyword in text for keyword in keywords):\n",
    "            return label\n",
    "    return \"none\"  # If no label is found"
   ]
  },
  {
   "cell_type": "code",
   "execution_count": 14,
   "metadata": {},
   "outputs": [],
   "source": [
    "# Apply cleaning and labeling\n",
    "df[\"cleaned_text\"] = df[\"text\"].apply(clean_text)\n",
    "df[\"mental_health_label\"] = df[\"cleaned_text\"].apply(assign_label)"
   ]
  },
  {
   "cell_type": "code",
   "execution_count": 38,
   "metadata": {},
   "outputs": [
    {
     "data": {
      "text/html": [
       "<div>\n",
       "<style scoped>\n",
       "    .dataframe tbody tr th:only-of-type {\n",
       "        vertical-align: middle;\n",
       "    }\n",
       "\n",
       "    .dataframe tbody tr th {\n",
       "        vertical-align: top;\n",
       "    }\n",
       "\n",
       "    .dataframe thead th {\n",
       "        text-align: right;\n",
       "    }\n",
       "</style>\n",
       "<table border=\"1\" class=\"dataframe\">\n",
       "  <thead>\n",
       "    <tr style=\"text-align: right;\">\n",
       "      <th></th>\n",
       "      <th>sentiment</th>\n",
       "      <th>text</th>\n",
       "      <th>clean_text</th>\n",
       "      <th>cleaned_text</th>\n",
       "      <th>mental_health_label</th>\n",
       "    </tr>\n",
       "  </thead>\n",
       "  <tbody>\n",
       "    <tr>\n",
       "      <th>144808</th>\n",
       "      <td>negative</td>\n",
       "      <td>Is not going Download</td>\n",
       "      <td>going download</td>\n",
       "      <td>going download</td>\n",
       "      <td>none</td>\n",
       "    </tr>\n",
       "    <tr>\n",
       "      <th>384223</th>\n",
       "      <td>negative</td>\n",
       "      <td>pornbats where u at?  i miss u guys.</td>\n",
       "      <td>pornbats u miss u guys</td>\n",
       "      <td>pornbats u miss u guys</td>\n",
       "      <td>none</td>\n",
       "    </tr>\n",
       "    <tr>\n",
       "      <th>555171</th>\n",
       "      <td>negative</td>\n",
       "      <td>@shawneiora Been sad lately. Just found out my...</td>\n",
       "      <td>sad lately found sister stage 1 colon cancer a...</td>\n",
       "      <td>sad lately found sister stage 1 colon cancer a...</td>\n",
       "      <td>depression</td>\n",
       "    </tr>\n",
       "    <tr>\n",
       "      <th>1039930</th>\n",
       "      <td>positive</td>\n",
       "      <td>Im still studying and nothing is making sense....</td>\n",
       "      <td>im still studying nothing making sense got yea...</td>\n",
       "      <td>im still studying nothing making sense got yea...</td>\n",
       "      <td>none</td>\n",
       "    </tr>\n",
       "    <tr>\n",
       "      <th>1591526</th>\n",
       "      <td>positive</td>\n",
       "      <td>@PaceyGorilla (clears throat nervously) Erm..y...</td>\n",
       "      <td>clears throat nervously ermyesand im really be...</td>\n",
       "      <td>clears throat nervously ermyesand im really be...</td>\n",
       "      <td>anxiety</td>\n",
       "    </tr>\n",
       "  </tbody>\n",
       "</table>\n",
       "</div>"
      ],
      "text/plain": [
       "        sentiment                                               text  \\\n",
       "144808   negative                             Is not going Download    \n",
       "384223   negative               pornbats where u at?  i miss u guys.   \n",
       "555171   negative  @shawneiora Been sad lately. Just found out my...   \n",
       "1039930  positive  Im still studying and nothing is making sense....   \n",
       "1591526  positive  @PaceyGorilla (clears throat nervously) Erm..y...   \n",
       "\n",
       "                                                clean_text  \\\n",
       "144808                                      going download   \n",
       "384223                              pornbats u miss u guys   \n",
       "555171   sad lately found sister stage 1 colon cancer a...   \n",
       "1039930  im still studying nothing making sense got yea...   \n",
       "1591526  clears throat nervously ermyesand im really be...   \n",
       "\n",
       "                                              cleaned_text mental_health_label  \n",
       "144808                                      going download                none  \n",
       "384223                              pornbats u miss u guys                none  \n",
       "555171   sad lately found sister stage 1 colon cancer a...          depression  \n",
       "1039930  im still studying nothing making sense got yea...                none  \n",
       "1591526  clears throat nervously ermyesand im really be...             anxiety  "
      ]
     },
     "execution_count": 38,
     "metadata": {},
     "output_type": "execute_result"
    }
   ],
   "source": [
    "df.sample(5)"
   ]
  },
  {
   "cell_type": "code",
   "execution_count": 40,
   "metadata": {},
   "outputs": [],
   "source": [
    "df[\"category\"] = df[\"clean_text\"].apply(assign_label)"
   ]
  },
  {
   "cell_type": "code",
   "execution_count": 41,
   "metadata": {},
   "outputs": [],
   "source": [
    "df = df[df[\"category\"] != \"other\"]  # Remove unrelated tweets"
   ]
  },
  {
   "cell_type": "code",
   "execution_count": 81,
   "metadata": {},
   "outputs": [
    {
     "data": {
      "text/html": [
       "<div>\n",
       "<style scoped>\n",
       "    .dataframe tbody tr th:only-of-type {\n",
       "        vertical-align: middle;\n",
       "    }\n",
       "\n",
       "    .dataframe tbody tr th {\n",
       "        vertical-align: top;\n",
       "    }\n",
       "\n",
       "    .dataframe thead th {\n",
       "        text-align: right;\n",
       "    }\n",
       "</style>\n",
       "<table border=\"1\" class=\"dataframe\">\n",
       "  <thead>\n",
       "    <tr style=\"text-align: right;\">\n",
       "      <th></th>\n",
       "      <th>sentiment</th>\n",
       "      <th>text</th>\n",
       "      <th>clean_text</th>\n",
       "      <th>cleaned_text</th>\n",
       "      <th>mental_health_label</th>\n",
       "      <th>category</th>\n",
       "    </tr>\n",
       "  </thead>\n",
       "  <tbody>\n",
       "    <tr>\n",
       "      <th>1026119</th>\n",
       "      <td>positive</td>\n",
       "      <td>@eilla going by your tweets there should be to...</td>\n",
       "      <td>going tweets tons write tip write draft langua...</td>\n",
       "      <td>going tweets tons write tip write draft langua...</td>\n",
       "      <td>none</td>\n",
       "      <td>none</td>\n",
       "    </tr>\n",
       "    <tr>\n",
       "      <th>7670</th>\n",
       "      <td>negative</td>\n",
       "      <td>has no internet access and needs an iPhone, cl...</td>\n",
       "      <td>internet access needs iphone clearly keep twit...</td>\n",
       "      <td>internet access needs iphone clearly keep twit...</td>\n",
       "      <td>none</td>\n",
       "      <td>none</td>\n",
       "    </tr>\n",
       "    <tr>\n",
       "      <th>1459460</th>\n",
       "      <td>positive</td>\n",
       "      <td>@Jonasbrothers For you Nick!!  http://bit.ly/t...</td>\n",
       "      <td>nick</td>\n",
       "      <td>nick</td>\n",
       "      <td>none</td>\n",
       "      <td>none</td>\n",
       "    </tr>\n",
       "    <tr>\n",
       "      <th>342467</th>\n",
       "      <td>negative</td>\n",
       "      <td>Woke up to a screaming cat(s). Mine looks fine...</td>\n",
       "      <td>woke screaming cats mine looks fine limping im...</td>\n",
       "      <td>woke screaming cats mine looks fine limping im...</td>\n",
       "      <td>depression</td>\n",
       "      <td>depression</td>\n",
       "    </tr>\n",
       "    <tr>\n",
       "      <th>665187</th>\n",
       "      <td>negative</td>\n",
       "      <td>Last day of tennis.</td>\n",
       "      <td>last day tennis</td>\n",
       "      <td>last day tennis</td>\n",
       "      <td>none</td>\n",
       "      <td>none</td>\n",
       "    </tr>\n",
       "    <tr>\n",
       "      <th>59302</th>\n",
       "      <td>negative</td>\n",
       "      <td>@bobklv yes but the work week in the UAE (and ...</td>\n",
       "      <td>yes work week uae gulf nations sunthu fri musl...</td>\n",
       "      <td>yes work week uae gulf nations sunthu fri musl...</td>\n",
       "      <td>none</td>\n",
       "      <td>none</td>\n",
       "    </tr>\n",
       "    <tr>\n",
       "      <th>1337478</th>\n",
       "      <td>positive</td>\n",
       "      <td>Class Action accuses LV strip clubs, cabs of R...</td>\n",
       "      <td>class action accuses lv strip clubs cabs rico ...</td>\n",
       "      <td>class action accuses lv strip clubs cabs rico ...</td>\n",
       "      <td>none</td>\n",
       "      <td>none</td>\n",
       "    </tr>\n",
       "    <tr>\n",
       "      <th>209632</th>\n",
       "      <td>negative</td>\n",
       "      <td>i had a dream that my lv nails fell off and i ...</td>\n",
       "      <td>dream lv nails fell sad</td>\n",
       "      <td>dream lv nails fell sad</td>\n",
       "      <td>depression</td>\n",
       "      <td>depression</td>\n",
       "    </tr>\n",
       "    <tr>\n",
       "      <th>64037</th>\n",
       "      <td>negative</td>\n",
       "      <td>My nails were broken ! accidentally !  *sob* i...</td>\n",
       "      <td>nails broken accidentally sob im sooo pissed</td>\n",
       "      <td>nails broken accidentally sob im sooo pissed</td>\n",
       "      <td>none</td>\n",
       "      <td>none</td>\n",
       "    </tr>\n",
       "    <tr>\n",
       "      <th>203344</th>\n",
       "      <td>negative</td>\n",
       "      <td>I'm in a time warp, listening to The Carter (T...</td>\n",
       "      <td>im time warp listening carter original weezy w...</td>\n",
       "      <td>im time warp listening carter original weezy w...</td>\n",
       "      <td>none</td>\n",
       "      <td>none</td>\n",
       "    </tr>\n",
       "  </tbody>\n",
       "</table>\n",
       "</div>"
      ],
      "text/plain": [
       "        sentiment                                               text  \\\n",
       "1026119  positive  @eilla going by your tweets there should be to...   \n",
       "7670     negative  has no internet access and needs an iPhone, cl...   \n",
       "1459460  positive  @Jonasbrothers For you Nick!!  http://bit.ly/t...   \n",
       "342467   negative  Woke up to a screaming cat(s). Mine looks fine...   \n",
       "665187   negative                               Last day of tennis.    \n",
       "59302    negative  @bobklv yes but the work week in the UAE (and ...   \n",
       "1337478  positive  Class Action accuses LV strip clubs, cabs of R...   \n",
       "209632   negative  i had a dream that my lv nails fell off and i ...   \n",
       "64037    negative  My nails were broken ! accidentally !  *sob* i...   \n",
       "203344   negative  I'm in a time warp, listening to The Carter (T...   \n",
       "\n",
       "                                                clean_text  \\\n",
       "1026119  going tweets tons write tip write draft langua...   \n",
       "7670     internet access needs iphone clearly keep twit...   \n",
       "1459460                                               nick   \n",
       "342467   woke screaming cats mine looks fine limping im...   \n",
       "665187                                     last day tennis   \n",
       "59302    yes work week uae gulf nations sunthu fri musl...   \n",
       "1337478  class action accuses lv strip clubs cabs rico ...   \n",
       "209632                             dream lv nails fell sad   \n",
       "64037         nails broken accidentally sob im sooo pissed   \n",
       "203344   im time warp listening carter original weezy w...   \n",
       "\n",
       "                                              cleaned_text  \\\n",
       "1026119  going tweets tons write tip write draft langua...   \n",
       "7670     internet access needs iphone clearly keep twit...   \n",
       "1459460                                               nick   \n",
       "342467   woke screaming cats mine looks fine limping im...   \n",
       "665187                                     last day tennis   \n",
       "59302    yes work week uae gulf nations sunthu fri musl...   \n",
       "1337478  class action accuses lv strip clubs cabs rico ...   \n",
       "209632                             dream lv nails fell sad   \n",
       "64037         nails broken accidentally sob im sooo pissed   \n",
       "203344   im time warp listening carter original weezy w...   \n",
       "\n",
       "        mental_health_label    category  \n",
       "1026119                none        none  \n",
       "7670                   none        none  \n",
       "1459460                none        none  \n",
       "342467           depression  depression  \n",
       "665187                 none        none  \n",
       "59302                  none        none  \n",
       "1337478                none        none  \n",
       "209632           depression  depression  \n",
       "64037                  none        none  \n",
       "203344                 none        none  "
      ]
     },
     "execution_count": 81,
     "metadata": {},
     "output_type": "execute_result"
    }
   ],
   "source": [
    "df.sample(10)"
   ]
  },
  {
   "cell_type": "code",
   "execution_count": null,
   "metadata": {},
   "outputs": [
    {
     "ename": "NameError",
     "evalue": "name 'mental_health_labels' is not defined",
     "output_type": "error",
     "traceback": [
      "\u001b[1;31m---------------------------------------------------------------------------\u001b[0m",
      "\u001b[1;31mNameError\u001b[0m                                 Traceback (most recent call last)",
      "Cell \u001b[1;32mIn[1], line 3\u001b[0m\n\u001b[0;32m      1\u001b[0m \u001b[38;5;28;01mimport\u001b[39;00m \u001b[38;5;21;01mseaborn\u001b[39;00m \u001b[38;5;28;01mas\u001b[39;00m \u001b[38;5;21;01msns\u001b[39;00m\n\u001b[1;32m----> 3\u001b[0m sns\u001b[38;5;241m.\u001b[39mcountplot(\u001b[43mmental_health_labels\u001b[49m)\n",
      "\u001b[1;31mNameError\u001b[0m: name 'mental_health_labels' is not defined"
     ]
    }
   ],
   "source": []
  },
  {
   "cell_type": "code",
   "execution_count": null,
   "metadata": {},
   "outputs": [
    {
     "data": {
      "image/png": "[encoded data removed]",
      "text/plain": [
       "<Figure size 1000x400 with 1 Axes>"
      ]
     },
     "metadata": {},
     "output_type": "display_data"
    }
   ],
   "source": []
  }
 ],
 "metadata": {
  "kernelspec": {
   "display_name": "Python 3",
   "language": "python",
   "name": "python3"
  },
  "language_info": {
   "codemirror_mode": {
    "name": "ipython",
    "version": 3
   },
   "file_extension": ".py",
   "mimetype": "text/x-python",
   "name": "python",
   "nbconvert_exporter": "python",
   "pygments_lexer": "ipython3",
   "version": "3.10.0"
  }
 },
 "nbformat": 4,
 "nbformat_minor": 2
}
