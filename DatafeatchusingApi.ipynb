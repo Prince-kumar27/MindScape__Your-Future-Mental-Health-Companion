{
 "cells": [
  {
   "cell_type": "code",
   "execution_count": 1,
   "metadata": {},
   "outputs": [
    {
     "name": "stdout",
     "output_type": "stream",
     "text": [
      "“I’ve been feeling really down lately, everything just seems overwhelming. 😞 #Depression”\n",
      "\"Just had the best day with friends! Laughter truly is the best medicine. 😂 #GoodVibesOnly\"\n",
      "\"Feeling so grateful for today! Everything seems brighter. 😊 #Blessed #Happy\"\n"
     ]
    }
   ],
   "source": [
    "import tweepy\n",
    "\n",
    "BEARER_TOKEN = \"AAAAAAAAAAAAAAAAAAAAAH44ywEAAAAA%2Ba0vH8E52pO53wNPET%2FUBmyaPiM%3DpdyxOMOTkLnn5dD2SElqGr5uSBCMngfWtIW2Wvk2bX9XutHCgp\"\n",
    "\n",
    "client = tweepy.Client(bearer_token=BEARER_TOKEN)\n",
    "\n",
    "# Fetch recent tweets from a user\n",
    "username = \"MalikZayn40259\"\n",
    "user = client.get_user(username=username, user_auth=False)\n",
    "tweets = client.get_users_tweets(user.data.id, max_results=10)\n",
    "\n",
    "for tweet in tweets.data:\n",
    "    print(tweet.text)\n"
   ]
  },
  {
   "cell_type": "code",
   "execution_count": 4,
   "metadata": {},
   "outputs": [
    {
     "name": "stdout",
     "output_type": "stream",
     "text": [
      "“I’ve been feeling really down lately, everything just seems overwhelming. 😞 #Depression”\n",
      "\"Just had the best day with friends! Laughter truly is the best medicine. 😂 #GoodVibesOnly\"\n",
      "\"Feeling so grateful for today! Everything seems brighter. 😊 #Blessed #Happy\"\n"
     ]
    }
   ],
   "source": [
    "for tweet in tweets.data:\n",
    "    print(tweet)\n"
   ]
  },
  {
   "cell_type": "code",
   "execution_count": null,
   "metadata": {},
   "outputs": [],
   "source": []
  }
 ],
 "metadata": {
  "kernelspec": {
   "display_name": "Python 3",
   "language": "python",
   "name": "python3"
  },
  "language_info": {
   "codemirror_mode": {
    "name": "ipython",
    "version": 3
   },
   "file_extension": ".py",
   "mimetype": "text/x-python",
   "name": "python",
   "nbconvert_exporter": "python",
   "pygments_lexer": "ipython3",
   "version": "3.12.4"
  }
 },
 "nbformat": 4,
 "nbformat_minor": 2
}
